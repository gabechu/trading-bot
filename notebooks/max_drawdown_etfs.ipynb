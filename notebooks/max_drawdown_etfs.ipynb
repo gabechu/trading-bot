{
 "cells": [
  {
   "cell_type": "code",
   "execution_count": 2,
   "metadata": {},
   "outputs": [],
   "source": [
    "import yfinance as yf\n",
    "import pandas as pd\n",
    "import numpy as np"
   ]
  },
  {
   "cell_type": "code",
   "execution_count": 3,
   "metadata": {},
   "outputs": [],
   "source": [
    "def calculate_max_drawdown(df: pd.DataFrame):\n",
    "    df_copy = df.copy()\n",
    "    df_copy = df_copy.sort_index()\n",
    "\n",
    "    df_copy['Cumulative Max'] = df_copy['Close'].cummax()\n",
    "    df_copy['Drawdown'] = df_copy['Close'] / df_copy['Cumulative Max'] - 1\n",
    "    max_drawdown = df_copy['Drawdown'].min()\n",
    "\n",
    "    max_drawdown_date = df_copy['Drawdown'].idxmin()\n",
    "    cumulative_max_date = df_copy.loc[:max_drawdown_date, 'Cumulative Max'].idxmax()\n",
    "\n",
    "    print(f\"The maximum drawdown is {max_drawdown:.2%}\")\n",
    "    print(f\"The cumulative maximum was reached on {cumulative_max_date.date()}\")\n",
    "    print(f\"The maximum drawdown occurred on {max_drawdown_date.date()}\")"
   ]
  },
  {
   "cell_type": "markdown",
   "metadata": {},
   "source": [
    "## IXC Max Drawdown"
   ]
  },
  {
   "cell_type": "code",
   "execution_count": 4,
   "metadata": {},
   "outputs": [],
   "source": [
    "ixc = yf.Ticker(\"IXC\")\n",
    "ixc_data = ixc.history(period=\"2y\")"
   ]
  },
  {
   "cell_type": "code",
   "execution_count": 5,
   "metadata": {},
   "outputs": [
    {
     "name": "stdout",
     "output_type": "stream",
     "text": [
      "The maximum drawdown is -17.57%\n",
      "The cumulative maximum was reached on 2022-08-29\n",
      "The maximum drawdown occurred on 2022-09-26\n"
     ]
    }
   ],
   "source": [
    "calculate_max_drawdown(ixc_data)"
   ]
  },
  {
   "cell_type": "markdown",
   "metadata": {},
   "source": [
    "## TQQ Max Drawdown"
   ]
  },
  {
   "cell_type": "code",
   "execution_count": 6,
   "metadata": {},
   "outputs": [],
   "source": [
    "tqqq = yf.Ticker(\"TQQQ\")\n",
    "tqqq_data = tqqq.history(period=\"2y\")"
   ]
  },
  {
   "cell_type": "code",
   "execution_count": 7,
   "metadata": {},
   "outputs": [
    {
     "name": "stdout",
     "output_type": "stream",
     "text": [
      "The maximum drawdown is -58.23%\n",
      "The cumulative maximum was reached on 2022-08-15\n",
      "The maximum drawdown occurred on 2022-12-28\n"
     ]
    }
   ],
   "source": [
    "calculate_max_drawdown(tqqq_data)"
   ]
  },
  {
   "cell_type": "markdown",
   "metadata": {},
   "source": [
    "## Portfolio Max Drawdown"
   ]
  },
  {
   "cell_type": "code",
   "execution_count": 8,
   "metadata": {},
   "outputs": [],
   "source": [
    "def calculate_max_drawdown_for_portfolio(tqqq_df: pd.DataFrame, ixc_df: pd.DataFrame):\n",
    "    tqqq_df = tqqq_df.sort_index()\n",
    "    ixc_df = ixc_df.sort_index()\n",
    "\n",
    "    combined_df = pd.DataFrame(index=tqqq_df.index)\n",
    "    combined_df['TQQQ_Close'] = tqqq_df['Close']\n",
    "    combined_df['IXC_Close'] = ixc_df['Close']\n",
    "\n",
    "    combined_df = combined_df.dropna()\n",
    "\n",
    "    # Calculate the portfolio value with a 50:50 split\n",
    "    combined_df['Portfolio_Value'] = 0.5 * combined_df['TQQQ_Close'] + 0.5 * combined_df['IXC_Close']\n",
    "    combined_df['Cumulative Max'] = combined_df['Portfolio_Value'].cummax()\n",
    "\n",
    "    # Calculate the drawdown\n",
    "    combined_df['Drawdown'] = combined_df['Portfolio_Value'] / combined_df['Cumulative Max'] - 1\n",
    "\n",
    "    # Calculate the maximum drawdown\n",
    "    max_drawdown = combined_df['Drawdown'].min()\n",
    "\n",
    "    # Find the date of the maximum drawdown\n",
    "    max_drawdown_date = combined_df['Drawdown'].idxmin()\n",
    "\n",
    "    # Find the date of the cumulative maximum before the maximum drawdown\n",
    "    cumulative_max_date = combined_df.loc[:max_drawdown_date, 'Cumulative Max'].idxmax()\n",
    "\n",
    "    print(f\"The maximum drawdown for the portfolio is {max_drawdown:.2%}\")\n",
    "    print(f\"The cumulative maximum was reached on {cumulative_max_date.date()}\")\n",
    "    print(f\"The maximum drawdown occurred on {max_drawdown_date.date()}\")"
   ]
  },
  {
   "cell_type": "code",
   "execution_count": 9,
   "metadata": {},
   "outputs": [
    {
     "name": "stdout",
     "output_type": "stream",
     "text": [
      "The maximum drawdown for the portfolio is -30.21%\n",
      "The cumulative maximum was reached on 2022-08-15\n",
      "The maximum drawdown occurred on 2022-09-30\n"
     ]
    }
   ],
   "source": [
    "calculate_max_drawdown_for_portfolio(tqqq_df=tqqq_data, ixc_df=ixc_data)"
   ]
  },
  {
   "cell_type": "code",
   "execution_count": 18,
   "metadata": {},
   "outputs": [],
   "source": [
    "def calculate_max_drawdown(portfolio_values):\n",
    "    cumulative_max = portfolio_values.cummax()\n",
    "    drawdown = portfolio_values / cumulative_max - 1\n",
    "    max_drawdown = drawdown.min()\n",
    "    return max_drawdown\n",
    "\n",
    "def find_optimal_split(tqqq_df: pd.DataFrame, ixc_df: pd.DataFrame):\n",
    "    tqqq_df = tqqq_df.sort_index()\n",
    "    ixc_df = ixc_df.sort_index()\n",
    "\n",
    "    combined_df = pd.DataFrame(index=tqqq_df.index)\n",
    "    combined_df['TQQQ_Close'] = tqqq_df['Close']\n",
    "    combined_df['IXC_Close'] = ixc_df['Close']\n",
    "    combined_df = combined_df.dropna()\n",
    "\n",
    "    best_split = None\n",
    "    lowest_max_drawdown = -float('inf')\n",
    "\n",
    "    for split in np.arange(0, 1.01, 0.01):\n",
    "        combined_df['Portfolio_Value'] = split * combined_df['TQQQ_Close'] + (1 - split) * combined_df['IXC_Close']\n",
    "        max_drawdown = calculate_max_drawdown(combined_df['Portfolio_Value'])\n",
    "\n",
    "        if max_drawdown > lowest_max_drawdown:\n",
    "            lowest_max_drawdown = max_drawdown\n",
    "            best_split = split\n",
    "\n",
    "    print(f\"The optimal split ratio is {best_split:.2f} for TQQQ and {1 - best_split:.2f} for IXC\")\n",
    "    print(f\"The lowest maximum drawdown is {lowest_max_drawdown:.2%}\")"
   ]
  },
  {
   "cell_type": "code",
   "execution_count": 22,
   "metadata": {},
   "outputs": [
    {
     "name": "stdout",
     "output_type": "stream",
     "text": [
      "The optimal split ratio is 0.00 for TQQQ and 1.00 for IXC\n",
      "The lowest maximum drawdown is -17.57%\n"
     ]
    }
   ],
   "source": [
    "find_optimal_split(tqqq_df=tqqq_data, ixc_df=ixc_data)"
   ]
  },
  {
   "cell_type": "code",
   "execution_count": 20,
   "metadata": {},
   "outputs": [],
   "source": [
    "def calculate_correlation(tqqq_df: pd.DataFrame, ixc_df: pd.DataFrame):\n",
    "    # Ensure both DataFrames are sorted by date\n",
    "    tqqq_df = tqqq_df.sort_index()\n",
    "    ixc_df = ixc_df.sort_index()\n",
    "\n",
    "    # Align the data by date\n",
    "    combined_df = pd.DataFrame(index=tqqq_df.index)\n",
    "    combined_df['TQQQ_Close'] = tqqq_df['Close']\n",
    "    combined_df['IXC_Close'] = ixc_df['Close']\n",
    "\n",
    "    # Drop rows with missing data\n",
    "    combined_df = combined_df.dropna()\n",
    "\n",
    "    # Calculate the correlation\n",
    "    correlation = combined_df['TQQQ_Close'].corr(combined_df['IXC_Close'])\n",
    "\n",
    "    print(f\"The correlation between TQQQ and IXC is {correlation:.2f}\")"
   ]
  },
  {
   "cell_type": "code",
   "execution_count": 21,
   "metadata": {},
   "outputs": [
    {
     "name": "stdout",
     "output_type": "stream",
     "text": [
      "The correlation between TQQQ and IXC is 0.66\n"
     ]
    }
   ],
   "source": [
    "calculate_correlation(tqqq_df=tqqq_data, ixc_df=ixc_data)"
   ]
  },
  {
   "cell_type": "code",
   "execution_count": null,
   "metadata": {},
   "outputs": [],
   "source": []
  }
 ],
 "metadata": {
  "kernelspec": {
   "display_name": "trading-bot-fyBX_eWZ-py3.10",
   "language": "python",
   "name": "python3"
  },
  "language_info": {
   "codemirror_mode": {
    "name": "ipython",
    "version": 3
   },
   "file_extension": ".py",
   "mimetype": "text/x-python",
   "name": "python",
   "nbconvert_exporter": "python",
   "pygments_lexer": "ipython3",
   "version": "3.10.11"
  }
 },
 "nbformat": 4,
 "nbformat_minor": 2
}
